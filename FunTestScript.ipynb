{
 "cells": [
  {
   "attachments": {},
   "cell_type": "markdown",
   "metadata": {},
   "source": [
    "This is my response and answer to my wife for LetterKenney. Hope she get's a kick out of it!"
   ]
  },
  {
   "cell_type": "code",
   "execution_count": 1,
   "metadata": {},
   "outputs": [],
   "source": [
    "Joe = \"You know, you're amazing Amber, and that's what I appreciate's about ya\"\n",
    "Amber = \"Is that what you appreciate about me?\"\n",
    "Joe1 = \"That's what I appreciates about ya!\"\n",
    "Amber1 = \"Pitter Patter!\"\n",
    "Joe2 = \"Let's get at er!\"\n",
    "\n",
    "Amber2 = \"How much wood could a wood chuck chuck, if a wood chuck could chuck wood?\"\n",
    "Joe3 = \"If a woodchuck could chuck wood, a woodchuck, would chuck, all the wood, that a woodchuck could chuck!\"\n",
    "Amber3 = \"You're so dumb!\"\n",
    "\n",
    "MandolorianCreed = \"This is the way\"\n",
    "Int1 = 1\n",
    "Int2 = 2\n",
    "Int3 = 3\n",
    "Response = \"If you truly believe this then count to 3\""
   ]
  },
  {
   "cell_type": "code",
   "execution_count": 2,
   "metadata": {},
   "outputs": [
    {
     "name": "stdout",
     "output_type": "stream",
     "text": [
      "You know, you're amazing Amber, and that's what I appreciate's about ya\n",
      "Is that what you appreciate about me?\n",
      "That's what I appreciates about ya!\n",
      "Pitter Patter!\n",
      "Let's get at er!\n"
     ]
    }
   ],
   "source": [
    "print(Joe)\n",
    "print(Amber)\n",
    "print(Joe1)\n",
    "print(Amber1)\n",
    "print(Joe2)"
   ]
  },
  {
   "cell_type": "code",
   "execution_count": 3,
   "metadata": {},
   "outputs": [
    {
     "name": "stdout",
     "output_type": "stream",
     "text": [
      "How much wood could a wood chuck chuck, if a wood chuck could chuck wood?\n",
      "If a woodchuck could chuck wood, a woodchuck, would chuck, all the wood, that a woodchuck could chuck!\n",
      "You're so dumb!\n"
     ]
    }
   ],
   "source": [
    "print(Amber2)\n",
    "print(Joe3)\n",
    "print(Amber3)"
   ]
  },
  {
   "cell_type": "code",
   "execution_count": 4,
   "metadata": {},
   "outputs": [
    {
     "name": "stdout",
     "output_type": "stream",
     "text": [
      "This is the way\n",
      "If you truly believe this then count to 3 ...\n",
      "1 ... 2 ... 3 ...\n",
      "This is the way\n"
     ]
    }
   ],
   "source": [
    "print(MandolorianCreed)\n",
    "\n",
    "\n",
    "print(Response,\"...\",)\n",
    "\n",
    "\n",
    "print(Int1,\"...\",Int2,\"...\",Int3,\"...\",)\n",
    "\n",
    "\n",
    "print(MandolorianCreed)"
   ]
  }
 ],
 "metadata": {
  "kernelspec": {
   "display_name": "Python 3",
   "language": "python",
   "name": "python3"
  },
  "language_info": {
   "codemirror_mode": {
    "name": "ipython",
    "version": 3
   },
   "file_extension": ".py",
   "mimetype": "text/x-python",
   "name": "python",
   "nbconvert_exporter": "python",
   "pygments_lexer": "ipython3",
   "version": "3.11.3"
  },
  "orig_nbformat": 4
 },
 "nbformat": 4,
 "nbformat_minor": 2
}
